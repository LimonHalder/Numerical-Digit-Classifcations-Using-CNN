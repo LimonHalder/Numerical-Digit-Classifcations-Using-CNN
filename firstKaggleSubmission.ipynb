{
  "cells": [
    {
      "cell_type": "markdown",
      "metadata": {
        "id": "view-in-github",
        "colab_type": "text"
      },
      "source": [
        "<a href=\"https://colab.research.google.com/github/LimonHalder/Numerical-Digit-Classifcations-Using-CNN/blob/master/firstKaggleSubmission.ipynb\" target=\"_parent\"><img src=\"https://colab.research.google.com/assets/colab-badge.svg\" alt=\"Open In Colab\"/></a>"
      ]
    },
    {
      "cell_type": "code",
      "execution_count": null,
      "metadata": {
        "id": "VRgijUioTdFT"
      },
      "outputs": [],
      "source": [
        "!pip install -q kaggle"
      ]
    },
    {
      "cell_type": "code",
      "execution_count": null,
      "metadata": {
        "colab": {
          "background_save": true,
          "base_uri": "https://localhost:8080/",
          "height": 91,
          "resources": {
            "http://localhost:8080/nbextensions/google.colab/files.js": {
              "data": "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",
              "headers": [
                [
                  "content-type",
                  "application/javascript"
                ]
              ],
              "ok": true,
              "status": 200,
              "status_text": ""
            }
          }
        },
        "id": "GTHVUPfKVDwV",
        "outputId": "fbde2291-c09d-44af-a93c-0f3002df59d2"
      },
      "outputs": [
        {
          "data": {
            "text/html": [
              "\n",
              "     <input type=\"file\" id=\"files-88a97cb6-fdc6-41a4-8245-87848c97fb60\" name=\"files[]\" multiple disabled\n",
              "        style=\"border:none\" />\n",
              "     <output id=\"result-88a97cb6-fdc6-41a4-8245-87848c97fb60\">\n",
              "      Upload widget is only available when the cell has been executed in the\n",
              "      current browser session. Please rerun this cell to enable.\n",
              "      </output>\n",
              "      <script src=\"/nbextensions/google.colab/files.js\"></script> "
            ],
            "text/plain": [
              "<IPython.core.display.HTML object>"
            ]
          },
          "metadata": {},
          "output_type": "display_data"
        }
      ],
      "source": [
        "from google.colab import files\n",
        "files.upload()"
      ]
    },
    {
      "cell_type": "code",
      "execution_count": null,
      "metadata": {
        "id": "V54qcXDkV63e"
      },
      "outputs": [],
      "source": [
        "! mkdir ~/.kaggle"
      ]
    },
    {
      "cell_type": "code",
      "execution_count": null,
      "metadata": {
        "id": "59DIPxLtWecu"
      },
      "outputs": [],
      "source": [
        "! cp kaggle.json ~/.kaggle/"
      ]
    },
    {
      "cell_type": "code",
      "execution_count": null,
      "metadata": {
        "id": "Z4pCG5uCWeid"
      },
      "outputs": [],
      "source": [
        "! chmod 600 ~/.kaggle/kaggle.json"
      ]
    },
    {
      "cell_type": "code",
      "execution_count": null,
      "metadata": {
        "colab": {
          "base_uri": "https://localhost:8080/"
        },
        "id": "NwZKGNg9WelS",
        "outputId": "1d0da3ec-5a89-4b3c-c894-cdfc975d70fd"
      },
      "outputs": [
        {
          "name": "stdout",
          "output_type": "stream",
          "text": [
            "ref                                                          title                                                size  lastUpdated          downloadCount  voteCount  usabilityRating  \n",
            "-----------------------------------------------------------  --------------------------------------------------  -----  -------------------  -------------  ---------  ---------------  \n",
            "victorsoeiro/netflix-tv-shows-and-movies                     Netflix TV Shows and Movies                           2MB  2022-05-15 00:01:23           8951        277  1.0              \n",
            "devansodariya/student-performance-data                       Student Performance Dataset                           7KB  2022-05-26 13:55:09           4613        152  0.9705882        \n",
            "iamsouravbanerjee/software-professional-salaries-2022        Salary Dataset - 2022                               526KB  2022-06-15 17:13:05           1732         46  1.0              \n",
            "paradisejoy/top-hits-spotify-from-20002019                   Top Hits Spotify from 2000-2019                      94KB  2022-05-31 07:20:57           6897        163  1.0              \n",
            "surajjha101/stores-area-and-sales-data                       Supermarket store branches sales analysis            10KB  2022-04-29 11:10:16           6891        189  1.0              \n",
            "mayureshkoli/police-deaths-in-usa-from-1791-to-2022          Police deaths in USA from 1791 to 2022              698KB  2022-06-09 17:47:57            825         29  1.0              \n",
            "saddamazyazy/go-to-college-dataset                           Go To College Dataset                                12KB  2022-05-20 10:46:02           1814         46  1.0              \n",
            "gunapro/student-behavior                                     Student Behavior                                      5KB  2022-06-03 13:45:54           1562         43  0.8235294        \n",
            "odins0n/amex-parquet                                         Amex Competition Data in Parquet Format               9GB  2022-05-25 23:20:19            942        124  1.0              \n",
            "ahmedshahriarsakib/usa-real-estate-dataset                   USA Real Estate Dataset                               5MB  2022-06-04 21:40:25            950         36  1.0              \n",
            "kkhandekar/cost-of-living-index-by-city-2022                 Cost of Living Index by City 2022                    15KB  2022-06-03 02:50:24            925         30  1.0              \n",
            "ruchi798/parquet-files-amexdefault-prediction                Feather & Parquet Files : AMEX-Default Prediction    22GB  2022-05-26 05:46:53            670        102  1.0              \n",
            "azminetoushikwasi/ucl-202122-uefa-champions-league           UCL ⚽ 2021-22 ⭐ Players Data | Champions League      55KB  2022-06-13 08:36:43           1482         48  1.0              \n",
            "prasertk/cities-with-the-best-worklife-balance-2022          Cities with the Best Work-Life Balance 2022           5KB  2022-06-01 09:15:52            809         29  1.0              \n",
            "kuchhbhi/play-store-apps-may2022                             Play Store Apps May-2022                            468KB  2022-05-19 07:57:19            826         29  1.0              \n",
            "aryashah2k/sample-students-grades-dataset-tutorial-notebook  Sample Students Grades Dataset Tutorial Notebook     360B  2022-06-07 09:11:25            250         27  1.0              \n",
            "dansbecker/melbourne-housing-snapshot                        Melbourne Housing Snapshot                          451KB  2018-06-05 12:52:24          89133       1092  0.7058824        \n",
            "imoore/age-dataset                                           Age dataset: life, work, and death of 1.22M people   34MB  2022-06-07 08:56:52            668         51  1.0              \n",
            "ankanhore545/dropout-or-academic-success                     Predict Dropout or Academic Success                 103KB  2022-06-05 11:32:43            615         28  0.9117647        \n",
            "odins0n/top-20-play-store-app-reviews-daily-update           Top 20 Play Store App Reviews (Daily Update)         16MB  2022-06-18 22:21:15            130         24  1.0              \n"
          ]
        }
      ],
      "source": [
        "! kaggle datasets list"
      ]
    },
    {
      "cell_type": "code",
      "execution_count": null,
      "metadata": {
        "colab": {
          "base_uri": "https://localhost:8080/"
        },
        "id": "-ZAeNA0rWeoo",
        "outputId": "9326afa4-e40f-45e2-d1d1-3c0ed432a6d7"
      },
      "outputs": [
        {
          "name": "stdout",
          "output_type": "stream",
          "text": [
            "Downloading digit-recognizer.zip to /content\n",
            "\r  0% 0.00/15.3M [00:00<?, ?B/s]\n",
            "\r100% 15.3M/15.3M [00:00<00:00, 212MB/s]\n"
          ]
        }
      ],
      "source": [
        "!kaggle competitions download -c digit-recognizer"
      ]
    },
    {
      "cell_type": "code",
      "execution_count": null,
      "metadata": {
        "colab": {
          "base_uri": "https://localhost:8080/"
        },
        "id": "hzn2ynHZY-7_",
        "outputId": "b36084f3-7cfb-4b00-c831-aed0f260ef1f"
      },
      "outputs": [
        {
          "name": "stdout",
          "output_type": "stream",
          "text": [
            "Archive:  /content/digit-recognizer.zip\n",
            "  inflating: sample_submission.csv   \n",
            "  inflating: test.csv                \n",
            "  inflating: train.csv               \n"
          ]
        }
      ],
      "source": [
        "!unzip /content/digit-recognizer.zip"
      ]
    },
    {
      "cell_type": "code",
      "execution_count": null,
      "metadata": {
        "id": "obimydlcY-_L"
      },
      "outputs": [],
      "source": [
        ""
      ]
    },
    {
      "cell_type": "code",
      "execution_count": null,
      "metadata": {
        "id": "ihC_i3OCY_CF"
      },
      "outputs": [],
      "source": [
        "import numpy as np\n",
        "import pandas as pd\n",
        "import seaborn as sns\n",
        "import tensorflow as ts\n",
        "import tensorflow.keras as ks\n",
        "import matplotlib.pyplot as plt\n",
        "from sklearn.model_selection import train_test_split\n",
        "from keras.utils.np_utils import to_categorical\n",
        "\n",
        "pd.set_option('display.max_columns', 784)"
      ]
    },
    {
      "cell_type": "code",
      "execution_count": null,
      "metadata": {
        "id": "jjZNqd_nY_Eq"
      },
      "outputs": [],
      "source": [
        "\n",
        "im_shape = (28, 28, 1)\n",
        "\n",
        "out_df = pd.read_csv('/content/sample_submission.csv')\n",
        "out_df.set_index('ImageId', inplace = True)\n",
        "\n",
        "def prepare_data(df: pd.DataFrame, train = False):\n",
        "    x_train = y_train = None\n",
        "    \n",
        "    if train:\n",
        "        y_train = df['label']\n",
        "        y_train = to_categorical(y_train, num_classes = 10)\n",
        "        x_train = df.drop('label', axis=1, inplace=False)\n",
        "    else:\n",
        "        x_train = df\n",
        "    \n",
        "    # There is no semantic loss but convolutions **cores** will contain sane numbers\n",
        "    x_train = x_train / 255\n",
        "    \n",
        "    # (rows, 28, 28, 1) \n",
        "    x_train = x_train.values.reshape(-1, *im_shape)\n",
        "    \n",
        "    return x_train, y_train\n",
        "\n",
        "x_test, _        = prepare_data(pd.read_csv('/content/test.csv'))\n",
        "x_train, y_train = prepare_data(pd.read_csv('/content/train.csv'),  train=True)\n",
        "\n",
        "x_train_splitted, x_test_splitted, y_train_splitted, y_test_splitted = train_test_split(\n",
        "    x_train, y_train, test_size = 0.2\n",
        ")"
      ]
    },
    {
      "cell_type": "code",
      "execution_count": null,
      "metadata": {
        "colab": {
          "base_uri": "https://localhost:8080/"
        },
        "id": "3maCQSMAe6HD",
        "outputId": "1c157bff-59fe-4449-d8a0-ea1529f0ff3d"
      },
      "outputs": [
        {
          "name": "stderr",
          "output_type": "stream",
          "text": [
            "/usr/local/lib/python3.7/dist-packages/keras_preprocessing/image/image_data_generator.py:337: UserWarning: This ImageDataGenerator specifies `zca_whitening`, which overrides setting of `featurewise_center`.\n",
            "  warnings.warn('This ImageDataGenerator specifies '\n"
          ]
        }
      ],
      "source": [
        "from keras.preprocessing.image import ImageDataGenerator\n",
        "\n",
        "# augmentation setup\n",
        "mnist_datagen = ImageDataGenerator(\n",
        "        samplewise_center              = False, \n",
        "        featurewise_std_normalization  = False,  \n",
        "        samplewise_std_normalization   = False,  \n",
        "        zca_whitening                  = True,  \n",
        "        horizontal_flip                = False,  \n",
        "        vertical_flip                   = False,\n",
        "    \n",
        "        rotation_range                 = 10,  \n",
        "        width_shift_range              = 0.1,  \n",
        "        height_shift_range             = 0.1, \n",
        ")"
      ]
    },
    {
      "cell_type": "code",
      "execution_count": null,
      "metadata": {
        "colab": {
          "base_uri": "https://localhost:8080/"
        },
        "id": "-2-0XWoZe6KQ",
        "outputId": "324bb1e4-2263-4799-9cd9-bf8c31a721fa"
      },
      "outputs": [
        {
          "name": "stdout",
          "output_type": "stream",
          "text": [
            "Model: \"sequential\"\n",
            "_________________________________________________________________\n",
            " Layer (type)                Output Shape              Param #   \n",
            "=================================================================\n",
            " conv2d (Conv2D)             (None, 26, 26, 64)        640       \n",
            "                                                                 \n",
            " batch_normalization (BatchN  (None, 26, 26, 64)       256       \n",
            " ormalization)                                                   \n",
            "                                                                 \n",
            " conv2d_1 (Conv2D)           (None, 24, 24, 64)        36928     \n",
            "                                                                 \n",
            " batch_normalization_1 (Batc  (None, 24, 24, 64)       256       \n",
            " hNormalization)                                                 \n",
            "                                                                 \n",
            " max_pooling2d (MaxPooling2D  (None, 12, 12, 64)       0         \n",
            " )                                                               \n",
            "                                                                 \n",
            " dropout (Dropout)           (None, 12, 12, 64)        0         \n",
            "                                                                 \n",
            " conv2d_2 (Conv2D)           (None, 10, 10, 128)       73856     \n",
            "                                                                 \n",
            " batch_normalization_2 (Batc  (None, 10, 10, 128)      512       \n",
            " hNormalization)                                                 \n",
            "                                                                 \n",
            " conv2d_3 (Conv2D)           (None, 8, 8, 128)         147584    \n",
            "                                                                 \n",
            " batch_normalization_3 (Batc  (None, 8, 8, 128)        512       \n",
            " hNormalization)                                                 \n",
            "                                                                 \n",
            " max_pooling2d_1 (MaxPooling  (None, 4, 4, 128)        0         \n",
            " 2D)                                                             \n",
            "                                                                 \n",
            " dropout_1 (Dropout)         (None, 4, 4, 128)         0         \n",
            "                                                                 \n",
            " flatten (Flatten)           (None, 2048)              0         \n",
            "                                                                 \n",
            " dense (Dense)               (None, 1024)              2098176   \n",
            "                                                                 \n",
            " dropout_2 (Dropout)         (None, 1024)              0         \n",
            "                                                                 \n",
            " batch_normalization_4 (Batc  (None, 1024)             4096      \n",
            " hNormalization)                                                 \n",
            "                                                                 \n",
            " dense_1 (Dense)             (None, 10)                10250     \n",
            "                                                                 \n",
            "=================================================================\n",
            "Total params: 2,373,066\n",
            "Trainable params: 2,370,250\n",
            "Non-trainable params: 2,816\n",
            "_________________________________________________________________\n"
          ]
        }
      ],
      "source": [
        "# learning options\n",
        "epoch_count = 150\n",
        "prefered_batch_size  = 256\n",
        "\n",
        "model_options = {\n",
        "    'optimizer': 'adam',\n",
        "    'metrics':   'accuracy',                  \n",
        "    'loss':      'categorical_crossentropy'  # awesome loss-function for multiclass classification\n",
        "}\n",
        "lrelu = lambda x: ks.layers.LeakyReLU(alpha = 0.01)(x)\n",
        "\n",
        "# C part (2 convolutions|MaxPools(2x2))\n",
        "conv_setup = {\n",
        "    'kernel_size': 3,\n",
        "    'strides':     1,               # we are getting them using kernel(size 5) with step 1\n",
        "    'activation': 'relu'\n",
        "}\n",
        "\n",
        "\n",
        "lr_model = ks.Sequential()\n",
        "# -----------------------------------------------------------------  # C1\n",
        "lr_model.add(ks.layers.Conv2D(\n",
        "    filters     = 64,               # 32 feature maps*\n",
        "    input_shape = im_shape,\n",
        "    **conv_setup\n",
        "))\n",
        "lr_model.add(ks.layers.BatchNormalization())\n",
        "\n",
        "lr_model.add(ks.layers.Conv2D(\n",
        "    filters     = 64,\n",
        "    **conv_setup\n",
        "))\n",
        "lr_model.add(ks.layers.BatchNormalization())\n",
        "\n",
        "lr_model.add(ks.layers.MaxPool2D()) # pool size is 2x2 by default\n",
        "lr_model.add(ks.layers.Dropout(0.4))\n",
        "lr_model.add(ks.layers.Conv2D(\n",
        "    filters     = 128,\n",
        "    **conv_setup\n",
        "))\n",
        "lr_model.add(ks.layers.BatchNormalization())\n",
        "\n",
        "lr_model.add(ks.layers.Conv2D(\n",
        "    filters     = 128,\n",
        "    **conv_setup\n",
        "))\n",
        "lr_model.add(ks.layers.BatchNormalization())\n",
        "\n",
        "lr_model.add(ks.layers.MaxPool2D())\n",
        "lr_model.add(ks.layers.Dropout(0.4))\n",
        "\n",
        "# -----------------------------------------------------------------  # Classifier part\n",
        "lr_model.add(ks.layers.Flatten())   # 2d -> 1d(256 units)\n",
        "lr_model.add(ks.layers.Dense(\n",
        "    1024, activation = 'swish'\n",
        "))\n",
        "\n",
        "\n",
        "lr_model.add(ks.layers.Dropout(0.4))\n",
        "lr_model.add(ks.layers.BatchNormalization())\n",
        "\n",
        "# -----------------------------------------------------------------  # Output layer\n",
        "lr_model.add(ks.layers.Dense(\n",
        "    10, activation='softmax'        # 10 classes\n",
        "))\n",
        "\n",
        "# Assembly model\n",
        "lr_model.compile(**model_options)\n",
        "lr_model.summary()"
      ]
    },
    {
      "cell_type": "code",
      "execution_count": null,
      "metadata": {
        "colab": {
          "base_uri": "https://localhost:8080/"
        },
        "id": "_TI7OwOSe6NQ",
        "outputId": "9320e9ff-cc6b-4050-8e14-f0445f2dcba2"
      },
      "outputs": [
        {
          "name": "stdout",
          "output_type": "stream",
          "text": [
            "Epoch 1/100\n"
          ]
        },
        {
          "name": "stderr",
          "output_type": "stream",
          "text": [
            "/usr/local/lib/python3.7/dist-packages/ipykernel_launcher.py:7: UserWarning: `Model.fit_generator` is deprecated and will be removed in a future version. Please use `Model.fit`, which supports generators.\n",
            "  import sys\n",
            "/usr/local/lib/python3.7/dist-packages/keras_preprocessing/image/image_data_generator.py:720: UserWarning: This ImageDataGenerator specifies `featurewise_center`, but it hasn't been fit on any training data. Fit it first by calling `.fit(numpy_data)`.\n",
            "  warnings.warn('This ImageDataGenerator specifies '\n",
            "/usr/local/lib/python3.7/dist-packages/keras_preprocessing/image/image_data_generator.py:739: UserWarning: This ImageDataGenerator specifies `zca_whitening`, but it hasn't been fit on any training data. Fit it first by calling `.fit(numpy_data)`.\n",
            "  warnings.warn('This ImageDataGenerator specifies '\n"
          ]
        },
        {
          "name": "stdout",
          "output_type": "stream",
          "text": [
            "131/131 [==============================] - 23s 76ms/step - loss: 0.3680 - accuracy: 0.8844 - val_loss: 11.2494 - val_accuracy: 0.1099\n",
            "Epoch 2/100\n",
            "131/131 [==============================] - 10s 80ms/step - loss: 0.1087 - accuracy: 0.9658 - val_loss: 10.5254 - val_accuracy: 0.1099\n",
            "Epoch 3/100\n",
            "131/131 [==============================] - 13s 96ms/step - loss: 0.0834 - accuracy: 0.9744 - val_loss: 6.2014 - val_accuracy: 0.1531\n",
            "Epoch 4/100\n",
            "131/131 [==============================] - 10s 73ms/step - loss: 0.0666 - accuracy: 0.9801 - val_loss: 0.2558 - val_accuracy: 0.9237\n",
            "Epoch 5/100\n",
            "131/131 [==============================] - 10s 73ms/step - loss: 0.0568 - accuracy: 0.9808 - val_loss: 0.0357 - val_accuracy: 0.9879\n",
            "Epoch 6/100\n",
            "131/131 [==============================] - 9s 69ms/step - loss: 0.0513 - accuracy: 0.9841 - val_loss: 0.0270 - val_accuracy: 0.9912\n",
            "Epoch 7/100\n",
            "131/131 [==============================] - 9s 69ms/step - loss: 0.0496 - accuracy: 0.9849 - val_loss: 0.0243 - val_accuracy: 0.9924\n",
            "Epoch 8/100\n",
            "131/131 [==============================] - 9s 69ms/step - loss: 0.0446 - accuracy: 0.9858 - val_loss: 0.0231 - val_accuracy: 0.9925\n",
            "Epoch 9/100\n",
            "131/131 [==============================] - 10s 73ms/step - loss: 0.0422 - accuracy: 0.9867 - val_loss: 0.0351 - val_accuracy: 0.9896\n",
            "Epoch 10/100\n",
            "131/131 [==============================] - 9s 69ms/step - loss: 0.0410 - accuracy: 0.9869 - val_loss: 0.0183 - val_accuracy: 0.9949\n",
            "Epoch 11/100\n",
            "131/131 [==============================] - 9s 69ms/step - loss: 0.0389 - accuracy: 0.9880 - val_loss: 0.0215 - val_accuracy: 0.9933\n",
            "Epoch 12/100\n",
            "131/131 [==============================] - 10s 73ms/step - loss: 0.0363 - accuracy: 0.9888 - val_loss: 0.0172 - val_accuracy: 0.9938\n",
            "Epoch 13/100\n",
            "131/131 [==============================] - 10s 73ms/step - loss: 0.0353 - accuracy: 0.9888 - val_loss: 0.0238 - val_accuracy: 0.9920\n",
            "Epoch 14/100\n",
            "131/131 [==============================] - 9s 68ms/step - loss: 0.0352 - accuracy: 0.9884 - val_loss: 0.0232 - val_accuracy: 0.9929\n",
            "Epoch 15/100\n",
            "131/131 [==============================] - 9s 72ms/step - loss: 0.0324 - accuracy: 0.9899 - val_loss: 0.0277 - val_accuracy: 0.9913\n",
            "Epoch 16/100\n",
            "131/131 [==============================] - 9s 72ms/step - loss: 0.0294 - accuracy: 0.9907 - val_loss: 0.0245 - val_accuracy: 0.9930\n",
            "Epoch 17/100\n",
            "131/131 [==============================] - 10s 73ms/step - loss: 0.0300 - accuracy: 0.9900 - val_loss: 0.0232 - val_accuracy: 0.9925\n",
            "Epoch 18/100\n",
            "131/131 [==============================] - 10s 74ms/step - loss: 0.0280 - accuracy: 0.9905 - val_loss: 0.0205 - val_accuracy: 0.9939\n",
            "Epoch 19/100\n",
            "131/131 [==============================] - 9s 69ms/step - loss: 0.0300 - accuracy: 0.9908 - val_loss: 0.0214 - val_accuracy: 0.9931\n",
            "Epoch 20/100\n",
            "131/131 [==============================] - 10s 73ms/step - loss: 0.0295 - accuracy: 0.9907 - val_loss: 0.0247 - val_accuracy: 0.9915\n",
            "Epoch 21/100\n",
            "131/131 [==============================] - 10s 73ms/step - loss: 0.0293 - accuracy: 0.9906 - val_loss: 0.0194 - val_accuracy: 0.9932\n",
            "Epoch 22/100\n",
            "131/131 [==============================] - 10s 73ms/step - loss: 0.0262 - accuracy: 0.9919 - val_loss: 0.0212 - val_accuracy: 0.9926\n",
            "Epoch 23/100\n",
            "131/131 [==============================] - 9s 68ms/step - loss: 0.0277 - accuracy: 0.9914 - val_loss: 0.0215 - val_accuracy: 0.9939\n",
            "Epoch 24/100\n",
            "131/131 [==============================] - 9s 69ms/step - loss: 0.0252 - accuracy: 0.9918 - val_loss: 0.0204 - val_accuracy: 0.9942\n",
            "Epoch 25/100\n",
            "131/131 [==============================] - 9s 72ms/step - loss: 0.0259 - accuracy: 0.9918 - val_loss: 0.0231 - val_accuracy: 0.9935\n",
            "Epoch 26/100\n",
            "131/131 [==============================] - 9s 69ms/step - loss: 0.0230 - accuracy: 0.9930 - val_loss: 0.0233 - val_accuracy: 0.9919\n",
            "Epoch 27/100\n",
            "131/131 [==============================] - 10s 79ms/step - loss: 0.0233 - accuracy: 0.9927 - val_loss: 0.0193 - val_accuracy: 0.9933\n",
            "Epoch 28/100\n",
            "131/131 [==============================] - 9s 68ms/step - loss: 0.0245 - accuracy: 0.9926 - val_loss: 0.0174 - val_accuracy: 0.9944\n",
            "Epoch 29/100\n",
            "131/131 [==============================] - 9s 69ms/step - loss: 0.0214 - accuracy: 0.9933 - val_loss: 0.0175 - val_accuracy: 0.9939\n",
            "Epoch 30/100\n",
            "131/131 [==============================] - 9s 69ms/step - loss: 0.0251 - accuracy: 0.9924 - val_loss: 0.0194 - val_accuracy: 0.9942\n",
            "Epoch 31/100\n",
            "131/131 [==============================] - 9s 72ms/step - loss: 0.0208 - accuracy: 0.9935 - val_loss: 0.0187 - val_accuracy: 0.9944\n",
            "Epoch 32/100\n",
            "131/131 [==============================] - 9s 72ms/step - loss: 0.0204 - accuracy: 0.9932 - val_loss: 0.0177 - val_accuracy: 0.9945\n",
            "Epoch 33/100\n",
            "131/131 [==============================] - 9s 71ms/step - loss: 0.0233 - accuracy: 0.9929 - val_loss: 0.0147 - val_accuracy: 0.9948\n",
            "Epoch 34/100\n",
            "131/131 [==============================] - 9s 71ms/step - loss: 0.0199 - accuracy: 0.9935 - val_loss: 0.0196 - val_accuracy: 0.9933\n",
            "Epoch 35/100\n",
            "131/131 [==============================] - 9s 68ms/step - loss: 0.0191 - accuracy: 0.9939 - val_loss: 0.0195 - val_accuracy: 0.9942\n",
            "Epoch 36/100\n",
            "131/131 [==============================] - 9s 69ms/step - loss: 0.0198 - accuracy: 0.9937 - val_loss: 0.0173 - val_accuracy: 0.9944\n",
            "Epoch 37/100\n",
            "131/131 [==============================] - 9s 68ms/step - loss: 0.0207 - accuracy: 0.9933 - val_loss: 0.0193 - val_accuracy: 0.9937\n",
            "Epoch 38/100\n",
            "131/131 [==============================] - 9s 70ms/step - loss: 0.0190 - accuracy: 0.9942 - val_loss: 0.0180 - val_accuracy: 0.9945\n",
            "Epoch 39/100\n",
            "131/131 [==============================] - 10s 72ms/step - loss: 0.0200 - accuracy: 0.9937 - val_loss: 0.0188 - val_accuracy: 0.9931\n",
            "Epoch 40/100\n",
            "131/131 [==============================] - 10s 75ms/step - loss: 0.0192 - accuracy: 0.9936 - val_loss: 0.0155 - val_accuracy: 0.9957\n",
            "Epoch 41/100\n",
            "131/131 [==============================] - 10s 76ms/step - loss: 0.0177 - accuracy: 0.9948 - val_loss: 0.0157 - val_accuracy: 0.9948\n",
            "Epoch 42/100\n",
            "131/131 [==============================] - 9s 72ms/step - loss: 0.0191 - accuracy: 0.9936 - val_loss: 0.0154 - val_accuracy: 0.9951\n",
            "Epoch 43/100\n",
            "131/131 [==============================] - 9s 69ms/step - loss: 0.0174 - accuracy: 0.9946 - val_loss: 0.0161 - val_accuracy: 0.9951\n",
            "Epoch 44/100\n",
            "131/131 [==============================] - 9s 69ms/step - loss: 0.0182 - accuracy: 0.9945 - val_loss: 0.0194 - val_accuracy: 0.9945\n",
            "Epoch 45/100\n",
            "131/131 [==============================] - 9s 70ms/step - loss: 0.0166 - accuracy: 0.9947 - val_loss: 0.0148 - val_accuracy: 0.9956\n",
            "Epoch 46/100\n",
            "131/131 [==============================] - 10s 73ms/step - loss: 0.0180 - accuracy: 0.9943 - val_loss: 0.0173 - val_accuracy: 0.9949\n",
            "Epoch 47/100\n",
            "131/131 [==============================] - 9s 72ms/step - loss: 0.0192 - accuracy: 0.9941 - val_loss: 0.0177 - val_accuracy: 0.9954\n",
            "Epoch 48/100\n",
            "131/131 [==============================] - 9s 72ms/step - loss: 0.0167 - accuracy: 0.9948 - val_loss: 0.0141 - val_accuracy: 0.9955\n",
            "Epoch 49/100\n",
            "131/131 [==============================] - 9s 69ms/step - loss: 0.0167 - accuracy: 0.9948 - val_loss: 0.0191 - val_accuracy: 0.9948\n",
            "Epoch 50/100\n",
            "131/131 [==============================] - 9s 72ms/step - loss: 0.0177 - accuracy: 0.9947 - val_loss: 0.0184 - val_accuracy: 0.9939\n",
            "Epoch 51/100\n",
            "131/131 [==============================] - 9s 72ms/step - loss: 0.0189 - accuracy: 0.9936 - val_loss: 0.0163 - val_accuracy: 0.9942\n",
            "Epoch 52/100\n",
            "131/131 [==============================] - 9s 67ms/step - loss: 0.0174 - accuracy: 0.9947 - val_loss: 0.0189 - val_accuracy: 0.9944\n",
            "Epoch 53/100\n",
            "131/131 [==============================] - 9s 71ms/step - loss: 0.0158 - accuracy: 0.9952 - val_loss: 0.0143 - val_accuracy: 0.9956\n",
            "Epoch 54/100\n",
            "131/131 [==============================] - 9s 68ms/step - loss: 0.0168 - accuracy: 0.9949 - val_loss: 0.0164 - val_accuracy: 0.9950\n",
            "Epoch 55/100\n",
            "131/131 [==============================] - 9s 72ms/step - loss: 0.0137 - accuracy: 0.9955 - val_loss: 0.0178 - val_accuracy: 0.9950\n",
            "Epoch 56/100\n",
            "131/131 [==============================] - 9s 69ms/step - loss: 0.0167 - accuracy: 0.9949 - val_loss: 0.0171 - val_accuracy: 0.9949\n",
            "Epoch 57/100\n",
            "131/131 [==============================] - 10s 73ms/step - loss: 0.0160 - accuracy: 0.9948 - val_loss: 0.0156 - val_accuracy: 0.9956\n",
            "Epoch 58/100\n",
            "131/131 [==============================] - 9s 69ms/step - loss: 0.0155 - accuracy: 0.9951 - val_loss: 0.0181 - val_accuracy: 0.9946\n",
            "Epoch 59/100\n",
            "131/131 [==============================] - 9s 68ms/step - loss: 0.0165 - accuracy: 0.9950 - val_loss: 0.0151 - val_accuracy: 0.9954\n",
            "Epoch 60/100\n",
            "131/131 [==============================] - 9s 69ms/step - loss: 0.0152 - accuracy: 0.9951 - val_loss: 0.0142 - val_accuracy: 0.9954\n",
            "Epoch 61/100\n",
            "131/131 [==============================] - 10s 73ms/step - loss: 0.0159 - accuracy: 0.9947 - val_loss: 0.0158 - val_accuracy: 0.9949\n",
            "Epoch 62/100\n",
            "131/131 [==============================] - 9s 68ms/step - loss: 0.0145 - accuracy: 0.9948 - val_loss: 0.0152 - val_accuracy: 0.9958\n",
            "Epoch 63/100\n",
            "131/131 [==============================] - 9s 68ms/step - loss: 0.0146 - accuracy: 0.9957 - val_loss: 0.0161 - val_accuracy: 0.9957\n",
            "Epoch 64/100\n",
            "131/131 [==============================] - 10s 73ms/step - loss: 0.0149 - accuracy: 0.9951 - val_loss: 0.0168 - val_accuracy: 0.9950\n",
            "Epoch 65/100\n",
            "131/131 [==============================] - 9s 69ms/step - loss: 0.0144 - accuracy: 0.9952 - val_loss: 0.0186 - val_accuracy: 0.9942\n",
            "Epoch 66/100\n",
            "131/131 [==============================] - 10s 73ms/step - loss: 0.0152 - accuracy: 0.9950 - val_loss: 0.0206 - val_accuracy: 0.9938\n",
            "Epoch 67/100\n",
            "131/131 [==============================] - 9s 71ms/step - loss: 0.0126 - accuracy: 0.9962 - val_loss: 0.0169 - val_accuracy: 0.9952\n",
            "Epoch 68/100\n",
            "131/131 [==============================] - 10s 73ms/step - loss: 0.0144 - accuracy: 0.9955 - val_loss: 0.0161 - val_accuracy: 0.9952\n",
            "Epoch 69/100\n",
            "131/131 [==============================] - 9s 70ms/step - loss: 0.0153 - accuracy: 0.9953 - val_loss: 0.0165 - val_accuracy: 0.9946\n",
            "Epoch 70/100\n",
            "131/131 [==============================] - 10s 74ms/step - loss: 0.0132 - accuracy: 0.9958 - val_loss: 0.0178 - val_accuracy: 0.9949\n",
            "Epoch 71/100\n",
            "131/131 [==============================] - 9s 69ms/step - loss: 0.0145 - accuracy: 0.9951 - val_loss: 0.0161 - val_accuracy: 0.9949\n",
            "Epoch 72/100\n",
            "131/131 [==============================] - 10s 73ms/step - loss: 0.0116 - accuracy: 0.9959 - val_loss: 0.0173 - val_accuracy: 0.9933\n",
            "Epoch 73/100\n",
            "131/131 [==============================] - 9s 69ms/step - loss: 0.0128 - accuracy: 0.9959 - val_loss: 0.0147 - val_accuracy: 0.9955\n",
            "Epoch 74/100\n",
            "131/131 [==============================] - 10s 74ms/step - loss: 0.0113 - accuracy: 0.9965 - val_loss: 0.0173 - val_accuracy: 0.9950\n",
            "Epoch 75/100\n",
            "131/131 [==============================] - 9s 70ms/step - loss: 0.0117 - accuracy: 0.9963 - val_loss: 0.0181 - val_accuracy: 0.9950\n",
            "Epoch 76/100\n",
            "131/131 [==============================] - 10s 74ms/step - loss: 0.0110 - accuracy: 0.9962 - val_loss: 0.0185 - val_accuracy: 0.9952\n",
            "Epoch 77/100\n",
            "131/131 [==============================] - 9s 70ms/step - loss: 0.0129 - accuracy: 0.9954 - val_loss: 0.0142 - val_accuracy: 0.9963\n",
            "Epoch 78/100\n",
            "131/131 [==============================] - 10s 74ms/step - loss: 0.0112 - accuracy: 0.9968 - val_loss: 0.0202 - val_accuracy: 0.9943\n",
            "Epoch 79/100\n",
            "131/131 [==============================] - 10s 75ms/step - loss: 0.0126 - accuracy: 0.9962 - val_loss: 0.0162 - val_accuracy: 0.9954\n",
            "Epoch 80/100\n",
            "131/131 [==============================] - 9s 71ms/step - loss: 0.0101 - accuracy: 0.9966 - val_loss: 0.0150 - val_accuracy: 0.9951\n",
            "Epoch 81/100\n",
            "131/131 [==============================] - 9s 70ms/step - loss: 0.0107 - accuracy: 0.9967 - val_loss: 0.0163 - val_accuracy: 0.9960\n",
            "Epoch 82/100\n",
            "131/131 [==============================] - 9s 70ms/step - loss: 0.0099 - accuracy: 0.9965 - val_loss: 0.0149 - val_accuracy: 0.9955\n",
            "Epoch 83/100\n",
            "131/131 [==============================] - 10s 73ms/step - loss: 0.0115 - accuracy: 0.9966 - val_loss: 0.0138 - val_accuracy: 0.9967\n",
            "Epoch 84/100\n",
            "131/131 [==============================] - 9s 69ms/step - loss: 0.0104 - accuracy: 0.9965 - val_loss: 0.0175 - val_accuracy: 0.9943\n",
            "Epoch 85/100\n",
            "131/131 [==============================] - 10s 73ms/step - loss: 0.0109 - accuracy: 0.9965 - val_loss: 0.0159 - val_accuracy: 0.9957\n",
            "Epoch 86/100\n",
            "131/131 [==============================] - 9s 70ms/step - loss: 0.0123 - accuracy: 0.9960 - val_loss: 0.0136 - val_accuracy: 0.9965\n",
            "Epoch 87/100\n",
            "131/131 [==============================] - 10s 73ms/step - loss: 0.0123 - accuracy: 0.9962 - val_loss: 0.0188 - val_accuracy: 0.9943\n",
            "Epoch 88/100\n",
            "131/131 [==============================] - 9s 69ms/step - loss: 0.0116 - accuracy: 0.9963 - val_loss: 0.0172 - val_accuracy: 0.9955\n",
            "Epoch 89/100\n",
            "131/131 [==============================] - 10s 73ms/step - loss: 0.0111 - accuracy: 0.9965 - val_loss: 0.0155 - val_accuracy: 0.9955\n",
            "Epoch 90/100\n",
            "131/131 [==============================] - 9s 68ms/step - loss: 0.0096 - accuracy: 0.9969 - val_loss: 0.0186 - val_accuracy: 0.9944\n",
            "Epoch 91/100\n",
            "131/131 [==============================] - 9s 69ms/step - loss: 0.0092 - accuracy: 0.9969 - val_loss: 0.0146 - val_accuracy: 0.9960\n",
            "Epoch 92/100\n",
            "131/131 [==============================] - 9s 69ms/step - loss: 0.0097 - accuracy: 0.9970 - val_loss: 0.0198 - val_accuracy: 0.9951\n",
            "Epoch 93/100\n",
            "131/131 [==============================] - 10s 74ms/step - loss: 0.0102 - accuracy: 0.9967 - val_loss: 0.0147 - val_accuracy: 0.9958\n",
            "Epoch 94/100\n",
            "131/131 [==============================] - 10s 73ms/step - loss: 0.0103 - accuracy: 0.9965 - val_loss: 0.0168 - val_accuracy: 0.9954\n",
            "Epoch 95/100\n",
            "131/131 [==============================] - 9s 70ms/step - loss: 0.0098 - accuracy: 0.9966 - val_loss: 0.0181 - val_accuracy: 0.9952\n",
            "Epoch 96/100\n",
            "131/131 [==============================] - 10s 74ms/step - loss: 0.0107 - accuracy: 0.9966 - val_loss: 0.0142 - val_accuracy: 0.9956\n",
            "Epoch 97/100\n",
            "131/131 [==============================] - 10s 74ms/step - loss: 0.0094 - accuracy: 0.9971 - val_loss: 0.0124 - val_accuracy: 0.9963\n",
            "Epoch 98/100\n",
            "131/131 [==============================] - 10s 74ms/step - loss: 0.0089 - accuracy: 0.9968 - val_loss: 0.0152 - val_accuracy: 0.9957\n",
            "Epoch 99/100\n",
            "131/131 [==============================] - 10s 74ms/step - loss: 0.0110 - accuracy: 0.9964 - val_loss: 0.0134 - val_accuracy: 0.9958\n",
            "Epoch 100/100\n",
            "131/131 [==============================] - 9s 69ms/step - loss: 0.0103 - accuracy: 0.9964 - val_loss: 0.0168 - val_accuracy: 0.9961\n"
          ]
        },
        {
          "data": {
            "text/plain": [
              "<keras.callbacks.History at 0x7f464b73bcd0>"
            ]
          },
          "execution_count": 36,
          "metadata": {},
          "output_type": "execute_result"
        }
      ],
      "source": [
        "# train our model\n",
        "lr_model.fit_generator(\n",
        "    mnist_datagen.flow(x_train_splitted, y_train_splitted, batch_size = prefered_batch_size),\n",
        "    verbose = 1,\n",
        "    epochs = 100,\n",
        "    steps_per_epoch= x_train_splitted.shape[0] // prefered_batch_size,\n",
        "    validation_data = (x_test_splitted, y_test_splitted),    \n",
        ")"
      ]
    },
    {
      "cell_type": "code",
      "execution_count": null,
      "metadata": {
        "colab": {
          "base_uri": "https://localhost:8080/"
        },
        "id": "SXzsCkLje6Qf",
        "outputId": "e6891f49-dfb0-4506-8df4-f447d417100b"
      },
      "outputs": [
        {
          "data": {
            "text/plain": [
              "array([2, 0, 9, 0, 3, 7, 0, 3, 0, 3])"
            ]
          },
          "execution_count": 40,
          "metadata": {},
          "output_type": "execute_result"
        }
      ],
      "source": [
        "# predict classes\n",
        "y_preds = lr_model.predict(x_test)\n",
        "y_preds_classified = np.argmax(y_preds, axis=1)\n",
        "y_preds_classified[:10]"
      ]
    },
    {
      "cell_type": "code",
      "execution_count": null,
      "metadata": {
        "id": "9bVrwdlHe6Tq"
      },
      "outputs": [],
      "source": [
        "# upload results \n",
        "out_df['Label'] = y_preds_classified\n",
        "out_df.to_csv('outer.csv')"
      ]
    },
    {
      "cell_type": "code",
      "execution_count": null,
      "metadata": {
        "colab": {
          "base_uri": "https://localhost:8080/",
          "height": 424
        },
        "id": "u45iyvjNe6Xh",
        "outputId": "c442cc5b-11c8-4133-b44e-8e4d3a3c05ae"
      },
      "outputs": [
        {
          "data": {
            "text/html": [
              "\n",
              "  <div id=\"df-2cb55bc2-773f-4ca2-bfb0-0f8097ef90ba\">\n",
              "    <div class=\"colab-df-container\">\n",
              "      <div>\n",
              "<style scoped>\n",
              "    .dataframe tbody tr th:only-of-type {\n",
              "        vertical-align: middle;\n",
              "    }\n",
              "\n",
              "    .dataframe tbody tr th {\n",
              "        vertical-align: top;\n",
              "    }\n",
              "\n",
              "    .dataframe thead th {\n",
              "        text-align: right;\n",
              "    }\n",
              "</style>\n",
              "<table border=\"1\" class=\"dataframe\">\n",
              "  <thead>\n",
              "    <tr style=\"text-align: right;\">\n",
              "      <th></th>\n",
              "      <th>ImageId</th>\n",
              "      <th>Label</th>\n",
              "    </tr>\n",
              "  </thead>\n",
              "  <tbody>\n",
              "    <tr>\n",
              "      <th>0</th>\n",
              "      <td>1</td>\n",
              "      <td>2</td>\n",
              "    </tr>\n",
              "    <tr>\n",
              "      <th>1</th>\n",
              "      <td>2</td>\n",
              "      <td>0</td>\n",
              "    </tr>\n",
              "    <tr>\n",
              "      <th>2</th>\n",
              "      <td>3</td>\n",
              "      <td>9</td>\n",
              "    </tr>\n",
              "    <tr>\n",
              "      <th>3</th>\n",
              "      <td>4</td>\n",
              "      <td>0</td>\n",
              "    </tr>\n",
              "    <tr>\n",
              "      <th>4</th>\n",
              "      <td>5</td>\n",
              "      <td>3</td>\n",
              "    </tr>\n",
              "    <tr>\n",
              "      <th>...</th>\n",
              "      <td>...</td>\n",
              "      <td>...</td>\n",
              "    </tr>\n",
              "    <tr>\n",
              "      <th>27995</th>\n",
              "      <td>27996</td>\n",
              "      <td>9</td>\n",
              "    </tr>\n",
              "    <tr>\n",
              "      <th>27996</th>\n",
              "      <td>27997</td>\n",
              "      <td>7</td>\n",
              "    </tr>\n",
              "    <tr>\n",
              "      <th>27997</th>\n",
              "      <td>27998</td>\n",
              "      <td>3</td>\n",
              "    </tr>\n",
              "    <tr>\n",
              "      <th>27998</th>\n",
              "      <td>27999</td>\n",
              "      <td>9</td>\n",
              "    </tr>\n",
              "    <tr>\n",
              "      <th>27999</th>\n",
              "      <td>28000</td>\n",
              "      <td>2</td>\n",
              "    </tr>\n",
              "  </tbody>\n",
              "</table>\n",
              "<p>28000 rows × 2 columns</p>\n",
              "</div>\n",
              "      <button class=\"colab-df-convert\" onclick=\"convertToInteractive('df-2cb55bc2-773f-4ca2-bfb0-0f8097ef90ba')\"\n",
              "              title=\"Convert this dataframe to an interactive table.\"\n",
              "              style=\"display:none;\">\n",
              "        \n",
              "  <svg xmlns=\"http://www.w3.org/2000/svg\" height=\"24px\"viewBox=\"0 0 24 24\"\n",
              "       width=\"24px\">\n",
              "    <path d=\"M0 0h24v24H0V0z\" fill=\"none\"/>\n",
              "    <path d=\"M18.56 5.44l.94 2.06.94-2.06 2.06-.94-2.06-.94-.94-2.06-.94 2.06-2.06.94zm-11 1L8.5 8.5l.94-2.06 2.06-.94-2.06-.94L8.5 2.5l-.94 2.06-2.06.94zm10 10l.94 2.06.94-2.06 2.06-.94-2.06-.94-.94-2.06-.94 2.06-2.06.94z\"/><path d=\"M17.41 7.96l-1.37-1.37c-.4-.4-.92-.59-1.43-.59-.52 0-1.04.2-1.43.59L10.3 9.45l-7.72 7.72c-.78.78-.78 2.05 0 2.83L4 21.41c.39.39.9.59 1.41.59.51 0 1.02-.2 1.41-.59l7.78-7.78 2.81-2.81c.8-.78.8-2.07 0-2.86zM5.41 20L4 18.59l7.72-7.72 1.47 1.35L5.41 20z\"/>\n",
              "  </svg>\n",
              "      </button>\n",
              "      \n",
              "  <style>\n",
              "    .colab-df-container {\n",
              "      display:flex;\n",
              "      flex-wrap:wrap;\n",
              "      gap: 12px;\n",
              "    }\n",
              "\n",
              "    .colab-df-convert {\n",
              "      background-color: #E8F0FE;\n",
              "      border: none;\n",
              "      border-radius: 50%;\n",
              "      cursor: pointer;\n",
              "      display: none;\n",
              "      fill: #1967D2;\n",
              "      height: 32px;\n",
              "      padding: 0 0 0 0;\n",
              "      width: 32px;\n",
              "    }\n",
              "\n",
              "    .colab-df-convert:hover {\n",
              "      background-color: #E2EBFA;\n",
              "      box-shadow: 0px 1px 2px rgba(60, 64, 67, 0.3), 0px 1px 3px 1px rgba(60, 64, 67, 0.15);\n",
              "      fill: #174EA6;\n",
              "    }\n",
              "\n",
              "    [theme=dark] .colab-df-convert {\n",
              "      background-color: #3B4455;\n",
              "      fill: #D2E3FC;\n",
              "    }\n",
              "\n",
              "    [theme=dark] .colab-df-convert:hover {\n",
              "      background-color: #434B5C;\n",
              "      box-shadow: 0px 1px 3px 1px rgba(0, 0, 0, 0.15);\n",
              "      filter: drop-shadow(0px 1px 2px rgba(0, 0, 0, 0.3));\n",
              "      fill: #FFFFFF;\n",
              "    }\n",
              "  </style>\n",
              "\n",
              "      <script>\n",
              "        const buttonEl =\n",
              "          document.querySelector('#df-2cb55bc2-773f-4ca2-bfb0-0f8097ef90ba button.colab-df-convert');\n",
              "        buttonEl.style.display =\n",
              "          google.colab.kernel.accessAllowed ? 'block' : 'none';\n",
              "\n",
              "        async function convertToInteractive(key) {\n",
              "          const element = document.querySelector('#df-2cb55bc2-773f-4ca2-bfb0-0f8097ef90ba');\n",
              "          const dataTable =\n",
              "            await google.colab.kernel.invokeFunction('convertToInteractive',\n",
              "                                                     [key], {});\n",
              "          if (!dataTable) return;\n",
              "\n",
              "          const docLinkHtml = 'Like what you see? Visit the ' +\n",
              "            '<a target=\"_blank\" href=https://colab.research.google.com/notebooks/data_table.ipynb>data table notebook</a>'\n",
              "            + ' to learn more about interactive tables.';\n",
              "          element.innerHTML = '';\n",
              "          dataTable['output_type'] = 'display_data';\n",
              "          await google.colab.output.renderOutput(dataTable, element);\n",
              "          const docLink = document.createElement('div');\n",
              "          docLink.innerHTML = docLinkHtml;\n",
              "          element.appendChild(docLink);\n",
              "        }\n",
              "      </script>\n",
              "    </div>\n",
              "  </div>\n",
              "  "
            ],
            "text/plain": [
              "       ImageId  Label\n",
              "0            1      2\n",
              "1            2      0\n",
              "2            3      9\n",
              "3            4      0\n",
              "4            5      3\n",
              "...        ...    ...\n",
              "27995    27996      9\n",
              "27996    27997      7\n",
              "27997    27998      3\n",
              "27998    27999      9\n",
              "27999    28000      2\n",
              "\n",
              "[28000 rows x 2 columns]"
            ]
          },
          "execution_count": 47,
          "metadata": {},
          "output_type": "execute_result"
        }
      ],
      "source": [
        "p=pd.read_csv('outer.csv')\n",
        "p"
      ]
    },
    {
      "cell_type": "code",
      "execution_count": null,
      "metadata": {
        "id": "pjq-p9bSe6qE"
      },
      "outputs": [],
      "source": [
        ""
      ]
    },
    {
      "cell_type": "code",
      "execution_count": null,
      "metadata": {
        "id": "XIlO3w1le6tj"
      },
      "outputs": [],
      "source": [
        ""
      ]
    }
  ],
  "metadata": {
    "accelerator": "GPU",
    "colab": {
      "collapsed_sections": [],
      "name": "firstKaggleSubmission.ipynb",
      "toc_visible": true,
      "provenance": [],
      "authorship_tag": "ABX9TyODUtwFQQpZEb6ZH9FiyVuj",
      "include_colab_link": true
    },
    "gpuClass": "standard",
    "kernelspec": {
      "display_name": "Python 3",
      "name": "python3"
    },
    "language_info": {
      "name": "python"
    }
  },
  "nbformat": 4,
  "nbformat_minor": 0
}