{
 "cells": [
  {
   "cell_type": "markdown",
   "metadata": {},
   "source": [
    "## Hand writting (Digit) classification"
   ]
  },
  {
   "cell_type": "code",
   "execution_count": 1,
   "metadata": {},
   "outputs": [
    {
     "name": "stderr",
     "output_type": "stream",
     "text": [
      "C:\\Users\\kamru\\Anaconda3\\lib\\site-packages\\h5py\\__init__.py:34: FutureWarning: Conversion of the second argument of issubdtype from `float` to `np.floating` is deprecated. In future, it will be treated as `np.float64 == np.dtype(float).type`.\n",
      "  from ._conv import register_converters as _register_converters\n",
      "Using TensorFlow backend.\n"
     ]
    }
   ],
   "source": [
    "from collections import defaultdict\n",
    "import os, glob, random, sys, time, keras, cv2, itertools, sklearn\n",
    "import matplotlib.pyplot as plt\n",
    "import numpy as np\n",
    "from sklearn.metrics import confusion_matrix\n",
    "from keras.preprocessing import image\n",
    "from sklearn.metrics import accuracy_score\n",
    "from keras.callbacks import ModelCheckpoint\n",
    "from keras.applications.vgg16 import VGG16, preprocess_input\n",
    "from keras.preprocessing.image import ImageDataGenerator\n",
    "from keras.optimizers import Adam\n",
    "from keras.models import Model\n",
    "from collections import Counter\n",
    "from matplotlib import pyplot as plt\n",
    "%matplotlib inline\n",
    "from sklearn.metrics import roc_curve, auc\n",
    "from scipy import interp\n",
    "from sklearn.metrics import classification_report\n",
    "from sklearn.metrics import precision_recall_curve, average_precision_score\n",
    "from sklearn.utils.fixes import signature\n",
    "from keras.utils import to_categorical\n",
    "from keras.datasets import mnist\n",
    "from keras.models import *\n",
    "from keras.layers import *"
   ]
  },
  {
   "cell_type": "code",
   "execution_count": 2,
   "metadata": {},
   "outputs": [],
   "source": [
    "#load mnist dataset\n",
    "(X_train, y_train), (X_test, y_test) = mnist.load_data()"
   ]
  },
  {
   "cell_type": "code",
   "execution_count": 3,
   "metadata": {},
   "outputs": [
    {
     "name": "stdout",
     "output_type": "stream",
     "text": [
      "(60000, 28, 28)\n",
      "(60000,)\n",
      "(10000, 28, 28)\n",
      "(10000,)\n"
     ]
    }
   ],
   "source": [
    "# Printing the shape of the Train and test Data\n",
    "print(X_train.shape)\n",
    "print(y_train.shape)\n",
    "print(X_test.shape)\n",
    "print(y_test.shape)"
   ]
  },
  {
   "cell_type": "code",
   "execution_count": 4,
   "metadata": {},
   "outputs": [],
   "source": [
    "cDir=os.getcwd()\n",
    "for i in range(len(X_test)):\n",
    "    image=X_test[i,:,:]\n",
    "    img=image.reshape(28,28)\n",
    "    number='%04d'%i\n",
    "    path=cDir+'/test/'+str(number)+'.png'\n",
    "    cv2.imwrite(path,img)"
   ]
  },
  {
   "cell_type": "code",
   "execution_count": 5,
   "metadata": {
    "collapsed": true
   },
   "outputs": [],
   "source": [
    "# Comments\n",
    "# There are 60000 images in Training with the size 28x28\n",
    "# There are 10000 images in Test with the size 28x28"
   ]
  },
  {
   "cell_type": "code",
   "execution_count": 6,
   "metadata": {},
   "outputs": [
    {
     "data": {
      "image/png": "[encoded data removed]",
      "text/plain": [
       "<Figure size 432x288 with 10 Axes>"
      ]
     },
     "metadata": {},
     "output_type": "display_data"
    }
   ],
   "source": [
    "# Plot 0~9 Hand written digits for understanding\n",
    "x=np.unique(y_train)\n",
    "unique=[]\n",
    "\n",
    "for i in range(len(x)):\n",
    "    number=x[i]\n",
    "    for j in range(len(y_train)):\n",
    "        getNumber=y_train[j]\n",
    "        if getNumber==number:\n",
    "            unique.append(j)\n",
    "            break\n",
    "            \n",
    "fig = plt.figure()\n",
    "for i in range(len(unique)):\n",
    "    index=unique[i]\n",
    "    plt.subplot(5,2,i+1)\n",
    "    plt.tight_layout()\n",
    "    plt.imshow(X_train[index], cmap='gray', interpolation='none')\n",
    "    plt.title(\"Digit: {}\".format(y_train[index]))\n",
    "    plt.xticks([])\n",
    "    plt.yticks([])\n"
   ]
  },
  {
   "cell_type": "markdown",
   "metadata": {},
   "source": [
    "## Create the model with the VGG16"
   ]
  },
  {
   "cell_type": "code",
   "execution_count": 7,
   "metadata": {},
   "outputs": [],
   "source": [
    "##model building\n",
    "input_shape=(28,28,1)\n",
    "model = Sequential()\n",
    "\n",
    "#convolutional layer with rectified linear unit activation\n",
    "model.add(Conv2D(32,\n",
    "                 kernel_size=(3, 3),\n",
    "                 activation='relu',\n",
    "                 input_shape=input_shape))\n",
    "\n",
    "#32 convolution filters used each of size 3x3\n",
    "#again\n",
    "\n",
    "model.add(Conv2D(64, \n",
    "                 kernel_size=(3, 3),\n",
    "                 activation='relu'))\n",
    "\n",
    "model.add(Conv2D(128, \n",
    "                 kernel_size=(3, 3),\n",
    "                 activation='relu'))\n",
    "\n",
    "#64 convolution filters used each of size 3x3\n",
    "#choose the best features via pooling\n",
    "model.add(MaxPooling2D(pool_size=(2, 2)))\n",
    "\n",
    "#randomly turn neurons on and off to improve convergence\n",
    "model.add(Dropout(0.25))\n",
    "\n",
    "#flatten since too many dimensions, we only want a classification output\n",
    "model.add(Flatten())\n",
    "\n",
    "#fully connected to get all relevant data\n",
    "model.add(Dense(128, activation='relu'))\n",
    "\n",
    "#one more dropout for convergence' sake :) \n",
    "model.add(Dropout(0.5))\n",
    "\n",
    "#output a softmax to squash the matrix into output probabilities\n",
    "model.add(Dense(10, activation='softmax'))"
   ]
  },
  {
   "cell_type": "code",
   "execution_count": 8,
   "metadata": {},
   "outputs": [
    {
     "name": "stdout",
     "output_type": "stream",
     "text": [
      "_________________________________________________________________\n",
      "Layer (type)                 Output Shape              Param #   \n",
      "=================================================================\n",
      "conv2d_1 (Conv2D)            (None, 26, 26, 32)        320       \n",
      "_________________________________________________________________\n",
      "conv2d_2 (Conv2D)            (None, 24, 24, 64)        18496     \n",
      "_________________________________________________________________\n",
      "conv2d_3 (Conv2D)            (None, 22, 22, 128)       73856     \n",
      "_________________________________________________________________\n",
      "max_pooling2d_1 (MaxPooling2 (None, 11, 11, 128)       0         \n",
      "_________________________________________________________________\n",
      "dropout_1 (Dropout)          (None, 11, 11, 128)       0         \n",
      "_________________________________________________________________\n",
      "flatten_1 (Flatten)          (None, 15488)             0         \n",
      "_________________________________________________________________\n",
      "dense_1 (Dense)              (None, 128)               1982592   \n",
      "_________________________________________________________________\n",
      "dropout_2 (Dropout)          (None, 128)               0         \n",
      "_________________________________________________________________\n",
      "dense_2 (Dense)              (None, 10)                1290      \n",
      "=================================================================\n",
      "Total params: 2,076,554\n",
      "Trainable params: 2,076,554\n",
      "Non-trainable params: 0\n",
      "_________________________________________________________________\n",
      "0 conv2d_1\n",
      "1 conv2d_2\n",
      "2 conv2d_3\n",
      "3 max_pooling2d_1\n",
      "4 dropout_1\n",
      "5 flatten_1\n",
      "6 dense_1\n",
      "7 dropout_2\n",
      "8 dense_2\n"
     ]
    }
   ],
   "source": [
    "model.summary()\n",
    "\n",
    "model.compile(optimizer='adam', loss='categorical_crossentropy', metrics=['accuracy'])\n",
    "\n",
    "for i, layer in enumerate(model.layers):\n",
    "    print(i, layer.name)"
   ]
  },
  {
   "cell_type": "code",
   "execution_count": 9,
   "metadata": {},
   "outputs": [
    {
     "name": "stdout",
     "output_type": "stream",
     "text": [
      "X_train shape: (60000, 28, 28, 1)\n"
     ]
    }
   ],
   "source": [
    "img_rows, img_cols = 28, 28\n",
    "\n",
    "X_train = X_train.reshape(X_train.shape[0], img_rows, img_cols, 1)\n",
    "X_test = X_test.reshape(X_test.shape[0], img_rows, img_cols, 1)\n",
    "input_shape = (img_rows, img_cols, 1)\n",
    "\n",
    "#more reshaping\n",
    "X_train = X_train.astype('float32')\n",
    "X_test = X_test.astype('float32')\n",
    "X_train /= 255\n",
    "X_test /= 255\n",
    "\n",
    "print('X_train shape:', X_train.shape) \n",
    "#X_train shape: (60000, 28, 28, 1)\n",
    "# convert class vectors to binary class matrices\n",
    "y_train = to_categorical(y_train, 10)\n",
    "y_test = to_categorical(y_test, 10)"
   ]
  },
  {
   "cell_type": "code",
   "execution_count": 10,
   "metadata": {},
   "outputs": [
    {
     "name": "stdout",
     "output_type": "stream",
     "text": [
      "Train on 60000 samples, validate on 10000 samples\n",
      "Epoch 1/20\n",
      "60000/60000 [==============================] - 14s 242us/step - loss: 0.1948 - acc: 0.9395 - val_loss: 0.0432 - val_acc: 0.9856\n",
      "Epoch 2/20\n",
      "60000/60000 [==============================] - 12s 195us/step - loss: 0.0735 - acc: 0.9785 - val_loss: 0.0303 - val_acc: 0.9896\n",
      "Epoch 3/20\n",
      "60000/60000 [==============================] - 12s 195us/step - loss: 0.0541 - acc: 0.9840 - val_loss: 0.0249 - val_acc: 0.9922\n",
      "Epoch 4/20\n",
      "60000/60000 [==============================] - 12s 196us/step - loss: 0.0414 - acc: 0.9875 - val_loss: 0.0254 - val_acc: 0.9920\n",
      "Epoch 5/20\n",
      "60000/60000 [==============================] - 12s 195us/step - loss: 0.0374 - acc: 0.9882 - val_loss: 0.0297 - val_acc: 0.9900\n",
      "Epoch 6/20\n",
      "60000/60000 [==============================] - 12s 194us/step - loss: 0.0305 - acc: 0.9905 - val_loss: 0.0247 - val_acc: 0.9930\n",
      "Epoch 7/20\n",
      "60000/60000 [==============================] - 12s 195us/step - loss: 0.0268 - acc: 0.9917 - val_loss: 0.0240 - val_acc: 0.9925\n",
      "Epoch 8/20\n",
      "60000/60000 [==============================] - 12s 193us/step - loss: 0.0246 - acc: 0.9927 - val_loss: 0.0252 - val_acc: 0.9920\n",
      "Epoch 9/20\n",
      "60000/60000 [==============================] - 12s 194us/step - loss: 0.0227 - acc: 0.9925 - val_loss: 0.0260 - val_acc: 0.9932\n",
      "Epoch 10/20\n",
      "60000/60000 [==============================] - 12s 194us/step - loss: 0.0184 - acc: 0.9940 - val_loss: 0.0258 - val_acc: 0.9929\n",
      "Epoch 11/20\n",
      "60000/60000 [==============================] - 12s 194us/step - loss: 0.0180 - acc: 0.9944 - val_loss: 0.0285 - val_acc: 0.9924\n",
      "Epoch 12/20\n",
      "60000/60000 [==============================] - 12s 194us/step - loss: 0.0164 - acc: 0.9945 - val_loss: 0.0230 - val_acc: 0.9944\n",
      "Epoch 13/20\n",
      "60000/60000 [==============================] - 12s 194us/step - loss: 0.0151 - acc: 0.9950 - val_loss: 0.0245 - val_acc: 0.9938\n",
      "Epoch 14/20\n",
      "60000/60000 [==============================] - 12s 194us/step - loss: 0.0142 - acc: 0.9955 - val_loss: 0.0252 - val_acc: 0.9932\n",
      "Epoch 15/20\n",
      "60000/60000 [==============================] - 12s 195us/step - loss: 0.0166 - acc: 0.9945 - val_loss: 0.0231 - val_acc: 0.9930\n",
      "Epoch 16/20\n",
      "60000/60000 [==============================] - 12s 196us/step - loss: 0.0133 - acc: 0.9958 - val_loss: 0.0264 - val_acc: 0.9924\n",
      "Epoch 17/20\n",
      "60000/60000 [==============================] - 12s 194us/step - loss: 0.0120 - acc: 0.9958 - val_loss: 0.0264 - val_acc: 0.9925\n",
      "Epoch 18/20\n",
      "60000/60000 [==============================] - 12s 194us/step - loss: 0.0108 - acc: 0.9966 - val_loss: 0.0294 - val_acc: 0.9936\n",
      "Epoch 19/20\n",
      "60000/60000 [==============================] - 12s 195us/step - loss: 0.0098 - acc: 0.9967 - val_loss: 0.0282 - val_acc: 0.9932\n",
      "Epoch 20/20\n",
      "60000/60000 [==============================] - 12s 194us/step - loss: 0.0108 - acc: 0.9964 - val_loss: 0.0290 - val_acc: 0.9929\n"
     ]
    }
   ],
   "source": [
    "batch_size = 128\n",
    "num_epoch = 20\n",
    "\n",
    "history = model.fit(X_train, y_train,\n",
    "                    batch_size=batch_size,\n",
    "                    epochs=num_epoch,\n",
    "                    verbose=1,\n",
    "                    validation_data=(X_test, y_test))"
   ]
  },
  {
   "cell_type": "code",
   "execution_count": 11,
   "metadata": {},
   "outputs": [
    {
     "name": "stdout",
     "output_type": "stream",
     "text": [
      "10000/10000 [==============================] - 1s 111us/step\n",
      "Test loss: 0.02899697165951661\n",
      "Test accuracy: 0.9929\n"
     ]
    }
   ],
   "source": [
    "score = model.evaluate(X_test, y_test, verbose=1)\n",
    "print('Test loss:', score[0]) #Test loss: 0.0296396646054\n",
    "print('Test accuracy:', score[1]) #Test accuracy: 0.9904\n",
    "\n",
    "# 10000/10000 [==============================] - 1s 76us/step\n",
    "# Test loss: 0.030457835188111265\n",
    "# Test accuracy: 0.993"
   ]
  },
  {
   "cell_type": "code",
   "execution_count": 12,
   "metadata": {},
   "outputs": [
    {
     "name": "stderr",
     "output_type": "stream",
     "text": [
      "C:\\Users\\kamru\\Anaconda3\\lib\\site-packages\\matplotlib\\cbook\\deprecation.py:107: MatplotlibDeprecationWarning: Passing one of 'on', 'true', 'off', 'false' as a boolean is deprecated; use an actual boolean (True/False) instead.\n",
      "  warnings.warn(message, mplDeprecation, stacklevel=1)\n"
     ]
    },
    {
     "data": {
      "image/png": "[encoded data removed]",
      "text/plain": [
       "<Figure size 432x288 with 1 Axes>"
      ]
     },
     "metadata": {},
     "output_type": "display_data"
    },
    {
     "data": {
      "image/png": "[encoded data removed]",
      "text/plain": [
       "<Figure size 432x288 with 1 Axes>"
      ]
     },
     "metadata": {},
     "output_type": "display_data"
    }
   ],
   "source": [
    "# plotting the metrics\n",
    "plt.figure()\n",
    "plt.plot(history.history['acc'])\n",
    "plt.plot(history.history['val_acc'])\n",
    "plt.title('model accuracy')\n",
    "plt.ylabel('accuracy')\n",
    "plt.xlabel('epoch')\n",
    "plt.grid('on')\n",
    "plt.legend(['train', 'test'], loc='lower right')\n",
    "\n",
    "\n",
    "\n",
    "plt.figure()\n",
    "plt.plot(history.history['loss'])\n",
    "plt.plot(history.history['val_loss'])\n",
    "plt.title('model loss')\n",
    "plt.ylabel('loss')\n",
    "plt.grid('on')\n",
    "plt.xlabel('epoch')\n",
    "plt.legend(['train', 'test'], loc='upper right')\n",
    "plt.tight_layout()"
   ]
  },
  {
   "cell_type": "code",
   "execution_count": null,
   "metadata": {
    "collapsed": true
   },
   "outputs": [],
   "source": []
  }
 ],
 "metadata": {
  "kernelspec": {
   "display_name": "Python 3",
   "language": "python",
   "name": "python3"
  },
  "language_info": {
   "codemirror_mode": {
    "name": "ipython",
    "version": 3
   },
   "file_extension": ".py",
   "mimetype": "text/x-python",
   "name": "python",
   "nbconvert_exporter": "python",
   "pygments_lexer": "ipython3",
   "version": "3.6.3"
  }
 },
 "nbformat": 4,
 "nbformat_minor": 2
}
